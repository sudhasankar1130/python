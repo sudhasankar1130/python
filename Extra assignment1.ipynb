{
 "cells": [
  {
   "cell_type": "code",
   "execution_count": 1,
   "id": "9111e750-858f-4d32-bc68-3ae333ae9ed0",
   "metadata": {},
   "outputs": [
    {
     "name": "stdout",
     "output_type": "stream",
     "text": [
      "HOPE AI\n"
     ]
    }
   ],
   "source": [
    "print(\"HOPE AI\")"
   ]
  },
  {
   "cell_type": "code",
   "execution_count": 2,
   "id": "dc30cfc3-4a91-4013-b9d0-cdcbee7655d9",
   "metadata": {},
   "outputs": [
    {
     "name": "stdin",
     "output_type": "stream",
     "text": [
      "Enter your Institute name: HOPE AI\n"
     ]
    }
   ],
   "source": [
    "name=input(\"Enter your Institute name:\")"
   ]
  },
  {
   "cell_type": "code",
   "execution_count": 3,
   "id": "c0075ef9-0b85-42bd-aa8a-001f011f9ebc",
   "metadata": {},
   "outputs": [
    {
     "name": "stdin",
     "output_type": "stream",
     "text": [
      "Enter your name: sudha\n",
      "Enter your age: 36\n",
      "Enter your school name: Govt Hr Sec School\n",
      "Enter your degree: M.Sc\n"
     ]
    }
   ],
   "source": [
    "name=input(\"Enter your name:\")\n",
    "age=input(\"Enter your age:\")\n",
    "school=input(\"Enter your school name:\")\n",
    "deg=input(\"Enter your degree:\")"
   ]
  },
  {
   "cell_type": "code",
   "execution_count": 4,
   "id": "9eeb0f43-1419-48f3-afe6-1bec898144e7",
   "metadata": {},
   "outputs": [
    {
     "name": "stdin",
     "output_type": "stream",
     "text": [
      "Enter the value1: 35\n",
      "Enter the value2: 88\n"
     ]
    },
    {
     "name": "stdout",
     "output_type": "stream",
     "text": [
      "The Sum is: 123\n"
     ]
    }
   ],
   "source": [
    "a=int(input(\"Enter the value1:\"))\n",
    "b=int(input(\"Enter the value2:\"))\n",
    "add=a+b\n",
    "print(\"The Sum is:\",add)\n"
   ]
  },
  {
   "cell_type": "code",
   "execution_count": 5,
   "id": "396a02f7-b6b2-413a-9777-1aa6f5e7fa86",
   "metadata": {},
   "outputs": [
    {
     "name": "stdin",
     "output_type": "stream",
     "text": [
      "Enter the value1: 83\n",
      "Enter the value2: 37\n"
     ]
    },
    {
     "name": "stdout",
     "output_type": "stream",
     "text": [
      "The Subraction is: 46\n"
     ]
    }
   ],
   "source": [
    "a=int(input(\"Enter the value1:\"))\n",
    "b=int(input(\"Enter the value2:\"))\n",
    "sub=a-b\n",
    "print(\"The Subraction is:\",sub)\n",
    "\n"
   ]
  },
  {
   "cell_type": "code",
   "execution_count": 6,
   "id": "7ac62ceb-03cb-4cec-9612-fe3f1c9e76f4",
   "metadata": {},
   "outputs": [
    {
     "name": "stdin",
     "output_type": "stream",
     "text": [
      "Enter the value1: 8\n",
      "Enter the value2: 9\n"
     ]
    },
    {
     "name": "stdout",
     "output_type": "stream",
     "text": [
      "The multiplication is: 72\n"
     ]
    }
   ],
   "source": [
    "a=int(input(\"Enter the value1:\"))\n",
    "b=int(input(\"Enter the value2:\"))\n",
    "mul=a*b\n",
    "print(\"The multiplication is:\",mul)\n"
   ]
  },
  {
   "cell_type": "code",
   "execution_count": 8,
   "id": "65e97b6d-fbf2-412b-9d1b-39633309493f",
   "metadata": {},
   "outputs": [
    {
     "name": "stdin",
     "output_type": "stream",
     "text": [
      "Enter the value1: 56\n",
      "Enter the value2: 3\n"
     ]
    },
    {
     "name": "stdout",
     "output_type": "stream",
     "text": [
      "The float division is: 18.666666666666668\n"
     ]
    }
   ],
   "source": [
    "a=int(input(\"Enter the value1:\"))\n",
    "b=int(input(\"Enter the value2:\"))\n",
    "div=a/b\n",
    "print(\"The float division is:\",div)\n"
   ]
  },
  {
   "cell_type": "code",
   "execution_count": 10,
   "id": "41db658e-807d-4a6b-9069-c2ae12c56d28",
   "metadata": {},
   "outputs": [
    {
     "name": "stdin",
     "output_type": "stream",
     "text": [
      "Enter the value1: 67\n",
      "Enter the value2: 5\n"
     ]
    },
    {
     "name": "stdout",
     "output_type": "stream",
     "text": [
      "The floor division is: 13\n"
     ]
    }
   ],
   "source": [
    "a=int(input(\"Enter the value1:\"))\n",
    "b=int(input(\"Enter the value2:\"))\n",
    "div=a//b\n",
    "print(\"The floor division is:\",div)\n"
   ]
  },
  {
   "cell_type": "code",
   "execution_count": 11,
   "id": "749b7625-2300-4f84-830b-6dfc39d27bfe",
   "metadata": {},
   "outputs": [
    {
     "name": "stdin",
     "output_type": "stream",
     "text": [
      "Enter the value1: 75\n",
      "Enter the value2: 6\n"
     ]
    },
    {
     "name": "stdout",
     "output_type": "stream",
     "text": [
      "The Modulo is: 3\n"
     ]
    }
   ],
   "source": [
    "a=int(input(\"Enter the value1:\"))\n",
    "b=int(input(\"Enter the value2:\"))\n",
    "mod=a%b\n",
    "print(\"The Modulo is:\",mod)\n"
   ]
  },
  {
   "cell_type": "code",
   "execution_count": 12,
   "id": "79ffaa5c-cc7a-47da-a96e-5445e84f4716",
   "metadata": {},
   "outputs": [
    {
     "name": "stdin",
     "output_type": "stream",
     "text": [
      "Enter the value1: 7\n",
      "Enter the value2: 4\n"
     ]
    },
    {
     "name": "stdout",
     "output_type": "stream",
     "text": [
      "The power is: 2401\n"
     ]
    }
   ],
   "source": [
    "a=int(input(\"Enter the value1:\"))\n",
    "b=int(input(\"Enter the value2:\"))\n",
    "pow=a**b\n",
    "print(\"The power is:\",pow)\n"
   ]
  },
  {
   "cell_type": "code",
   "execution_count": null,
   "id": "5df5db29-3b1a-41b6-a865-1d2606d34319",
   "metadata": {},
   "outputs": [],
   "source": []
  }
 ],
 "metadata": {
  "kernelspec": {
   "display_name": "Python [conda env:base] *",
   "language": "python",
   "name": "conda-base-py"
  },
  "language_info": {
   "codemirror_mode": {
    "name": "ipython",
    "version": 3
   },
   "file_extension": ".py",
   "mimetype": "text/x-python",
   "name": "python",
   "nbconvert_exporter": "python",
   "pygments_lexer": "ipython3",
   "version": "3.13.5"
  }
 },
 "nbformat": 4,
 "nbformat_minor": 5
}
