{
 "cells": [
  {
   "cell_type": "code",
   "execution_count": 1,
   "id": "7b1969a5-a2fb-48c2-b85c-e0b0524961ca",
   "metadata": {},
   "outputs": [
    {
     "name": "stdout",
     "output_type": "stream",
     "text": [
      "Welcome to Assignment-1\n"
     ]
    }
   ],
   "source": [
    "print(\"Welcome to Assignment-1\")"
   ]
  },
  {
   "cell_type": "code",
   "execution_count": 3,
   "id": "50c0bae4-ada9-41b2-9699-4d81f77b3226",
   "metadata": {},
   "outputs": [
    {
     "name": "stdin",
     "output_type": "stream",
     "text": [
      "Enter the value1: 10\n",
      "Enter the value2: 30\n"
     ]
    },
    {
     "name": "stdout",
     "output_type": "stream",
     "text": [
      "The sum is: 40\n"
     ]
    }
   ],
   "source": [
    "num1=int(input(\"Enter the value1:\"))\n",
    "num2=int(input(\"Enter the value2:\"))\n",
    "Add=num1+num2\n",
    "print(\"The sum is:\",Add)\n",
    "\n"
   ]
  },
  {
   "cell_type": "code",
   "execution_count": 4,
   "id": "647f05e0-b0db-4f0c-885a-9eefc01a45f6",
   "metadata": {},
   "outputs": [
    {
     "name": "stdin",
     "output_type": "stream",
     "text": [
      "Enter the BMI Index: 45\n"
     ]
    },
    {
     "name": "stdout",
     "output_type": "stream",
     "text": [
      "Very Over Weight\n"
     ]
    }
   ],
   "source": [
    "weight=int(input(\"Enter the BMI Index:\"))\n",
    "if(weight<18):\n",
    "    print(\"Under Weight\")\n",
    "elif(weight<25):\n",
    "    print(\"Normal Weight\")\n",
    "elif(weight<30):\n",
    "    print(\"Over Weight\")\n",
    "else:\n",
    "    print(\"Very Over Weight\") "
   ]
  },
  {
   "cell_type": "code",
   "execution_count": null,
   "id": "9bdd8bee-5641-4338-bf6f-bd1c3efeaf91",
   "metadata": {},
   "outputs": [],
   "source": []
  }
 ],
 "metadata": {
  "kernelspec": {
   "display_name": "Python [conda env:base] *",
   "language": "python",
   "name": "conda-base-py"
  },
  "language_info": {
   "codemirror_mode": {
    "name": "ipython",
    "version": 3
   },
   "file_extension": ".py",
   "mimetype": "text/x-python",
   "name": "python",
   "nbconvert_exporter": "python",
   "pygments_lexer": "ipython3",
   "version": "3.13.5"
  }
 },
 "nbformat": 4,
 "nbformat_minor": 5
}
